{
 "cells": [
  {
   "cell_type": "code",
   "execution_count": 1,
   "id": "539d417f",
   "metadata": {},
   "outputs": [
    {
     "name": "stdout",
     "output_type": "stream",
     "text": [
      "Requirement already satisfied: numpy in c:\\users\\usuario\\anaconda3\\lib\\site-packages (1.21.5)\n",
      "Note: you may need to restart the kernel to use updated packages.\n"
     ]
    }
   ],
   "source": [
    "#1. Import the NUMPY package under the name np.\n",
    "\n",
    "%pip install numpy\n",
    "import numpy as np\n",
    "import warnings\n",
    "warnings.filterwarnings('ignore')"
   ]
  },
  {
   "cell_type": "code",
   "execution_count": 2,
   "id": "5f8ba0ca",
   "metadata": {
    "scrolled": false
   },
   "outputs": [
    {
     "name": "stdout",
     "output_type": "stream",
     "text": [
      "1.21.5\n",
      "blas_mkl_info:\n",
      "    libraries = ['mkl_rt']\n",
      "    library_dirs = ['C:/Users/Usuario/anaconda3\\\\Library\\\\lib']\n",
      "    define_macros = [('SCIPY_MKL_H', None), ('HAVE_CBLAS', None)]\n",
      "    include_dirs = ['C:/Users/Usuario/anaconda3\\\\Library\\\\include']\n",
      "blas_opt_info:\n",
      "    libraries = ['mkl_rt']\n",
      "    library_dirs = ['C:/Users/Usuario/anaconda3\\\\Library\\\\lib']\n",
      "    define_macros = [('SCIPY_MKL_H', None), ('HAVE_CBLAS', None)]\n",
      "    include_dirs = ['C:/Users/Usuario/anaconda3\\\\Library\\\\include']\n",
      "lapack_mkl_info:\n",
      "    libraries = ['mkl_rt']\n",
      "    library_dirs = ['C:/Users/Usuario/anaconda3\\\\Library\\\\lib']\n",
      "    define_macros = [('SCIPY_MKL_H', None), ('HAVE_CBLAS', None)]\n",
      "    include_dirs = ['C:/Users/Usuario/anaconda3\\\\Library\\\\include']\n",
      "lapack_opt_info:\n",
      "    libraries = ['mkl_rt']\n",
      "    library_dirs = ['C:/Users/Usuario/anaconda3\\\\Library\\\\lib']\n",
      "    define_macros = [('SCIPY_MKL_H', None), ('HAVE_CBLAS', None)]\n",
      "    include_dirs = ['C:/Users/Usuario/anaconda3\\\\Library\\\\include']\n",
      "Supported SIMD extensions in this NumPy install:\n",
      "    baseline = SSE,SSE2,SSE3\n",
      "    found = SSSE3,SSE41,POPCNT,SSE42,AVX,F16C,FMA3,AVX2\n",
      "    not found = AVX512F,AVX512CD,AVX512_SKX,AVX512_CLX,AVX512_CNL\n",
      "None\n"
     ]
    }
   ],
   "source": [
    "#2. Print the NUMPY version and the configuration.\n",
    "\n",
    "print(np.__version__)\n",
    "print(np.show_config())"
   ]
  },
  {
   "cell_type": "code",
   "execution_count": 14,
   "id": "99b08b8a",
   "metadata": {
    "scrolled": true
   },
   "outputs": [
    {
     "name": "stdout",
     "output_type": "stream",
     "text": [
      "matriz a:  \n",
      " [[[2.67641985e-01 2.80781511e-01 4.02466403e-01 5.47769549e-01\n",
      "   1.82834054e-01]\n",
      "  [9.04148771e-01 1.10086956e-01 7.92790732e-01 4.39351391e-01\n",
      "   5.59266482e-01]\n",
      "  [7.20740282e-01 2.32017354e-02 2.76528765e-01 5.76061208e-01\n",
      "   4.56419992e-01]]\n",
      "\n",
      " [[5.45988929e-04 3.99522539e-01 3.38768402e-01 1.76138173e-01\n",
      "   6.48658222e-02]\n",
      "  [9.49515078e-01 5.52421664e-01 2.16615142e-01 5.73266398e-01\n",
      "   5.78898730e-01]\n",
      "  [2.76715811e-01 2.18792774e-01 3.45196758e-01 8.39241869e-01\n",
      "   5.51844156e-01]]] \n",
      "\n",
      "matriz b: \n",
      " [[[52 59 63 16 87]\n",
      "  [12 74 22 54  8]\n",
      "  [61 50 64 66 12]]\n",
      "\n",
      " [[53 14 23 94 47]\n",
      "  [69 77 65 43 45]\n",
      "  [21 26 37 99 65]]] \n",
      "\n",
      "matric c: \n",
      " [[[ 7  4  9  6  2]\n",
      "  [ 1  6 10  9  7]\n",
      "  [ 1  2  3  5  1]]\n",
      "\n",
      " [[ 6  3  5  5  1]\n",
      "  [ 6  5  6 10  6]\n",
      "  [ 9  8  1  3  2]]]\n"
     ]
    }
   ],
   "source": [
    "#3. Generate a 2x3x5 3-dimensional array with random values. Assign the array to variable \"a\"\n",
    "# Challenge: there are at least three easy ways that use numpy to generate random arrays. How many ways can you find?\n",
    "#Print a\n",
    "\n",
    "a = np.random.random_sample((2,3,5))\n",
    "x = np.random.randint(1,100, size=(2,3,5))\n",
    "j = np.random.random_integers(10, size=(2,3,5))\n",
    "\n",
    "print('matriz a: ','\\n', a,'\\n\\nmatriz b:','\\n', x, '\\n\\nmatric c:', '\\n',j)"
   ]
  },
  {
   "cell_type": "code",
   "execution_count": 11,
   "id": "94c6424c",
   "metadata": {
    "scrolled": true
   },
   "outputs": [
    {
     "data": {
      "text/plain": [
       "array([[[1., 1., 1.],\n",
       "        [1., 1., 1.]],\n",
       "\n",
       "       [[1., 1., 1.],\n",
       "        [1., 1., 1.]],\n",
       "\n",
       "       [[1., 1., 1.],\n",
       "        [1., 1., 1.]],\n",
       "\n",
       "       [[1., 1., 1.],\n",
       "        [1., 1., 1.]],\n",
       "\n",
       "       [[1., 1., 1.],\n",
       "        [1., 1., 1.]]])"
      ]
     },
     "execution_count": 11,
     "metadata": {},
     "output_type": "execute_result"
    }
   ],
   "source": [
    "#5. Create a 5x2x3 3-dimensional array with all values equaling 1.\n",
    "#Assign the array to variable \"b\"\n",
    "#6. Print b.\n",
    "\n",
    "b = np.ones((5,2,3))\n",
    "b"
   ]
  },
  {
   "cell_type": "code",
   "execution_count": 5,
   "id": "09a1f45c",
   "metadata": {
    "scrolled": true
   },
   "outputs": [
    {
     "name": "stdout",
     "output_type": "stream",
     "text": [
      "size a: 30 // size b: 30\n"
     ]
    }
   ],
   "source": [
    "#7. Do a and b have the same size? How do you prove that in Python code?\n",
    "\n",
    "print('size a:', a.size, '//', 'size b:', b.size)"
   ]
  },
  {
   "cell_type": "code",
   "execution_count": 6,
   "id": "1baae81e",
   "metadata": {
    "scrolled": true
   },
   "outputs": [
    {
     "data": {
      "text/plain": [
       "True"
      ]
     },
     "execution_count": 6,
     "metadata": {},
     "output_type": "execute_result"
    }
   ],
   "source": [
    "a.size == b.size"
   ]
  },
  {
   "cell_type": "code",
   "execution_count": 7,
   "id": "2f12f95a",
   "metadata": {
    "scrolled": true
   },
   "outputs": [
    {
     "ename": "ValueError",
     "evalue": "operands could not be broadcast together with shapes (2,3,5) (5,2,3) ",
     "output_type": "error",
     "traceback": [
      "\u001b[1;31m---------------------------------------------------------------------------\u001b[0m",
      "\u001b[1;31mValueError\u001b[0m                                Traceback (most recent call last)",
      "Input \u001b[1;32mIn [7]\u001b[0m, in \u001b[0;36m<cell line: 3>\u001b[1;34m()\u001b[0m\n\u001b[0;32m      1\u001b[0m \u001b[38;5;66;03m#8. Are you able to add a and b? Why or why not? No, bc they don't have the same shape.\u001b[39;00m\n\u001b[1;32m----> 3\u001b[0m \u001b[43ma\u001b[49m\u001b[43m \u001b[49m\u001b[38;5;241;43m+\u001b[39;49m\u001b[43m \u001b[49m\u001b[43mb\u001b[49m\n",
      "\u001b[1;31mValueError\u001b[0m: operands could not be broadcast together with shapes (2,3,5) (5,2,3) "
     ]
    }
   ],
   "source": [
    "#8. Are you able to add a and b? Why or why not? No, bc they don't have the same shape.\n",
    "\n",
    "a + b"
   ]
  },
  {
   "cell_type": "code",
   "execution_count": null,
   "id": "dba46b1b",
   "metadata": {},
   "outputs": [],
   "source": [
    "print('shape a:', a.shape, '//', 'shape b:', b.shape)"
   ]
  },
  {
   "cell_type": "code",
   "execution_count": 15,
   "id": "e5d9dd4d",
   "metadata": {},
   "outputs": [
    {
     "name": "stdout",
     "output_type": "stream",
     "text": [
      "[[[1. 1. 1. 1. 1.]\n",
      "  [1. 1. 1. 1. 1.]\n",
      "  [1. 1. 1. 1. 1.]]\n",
      "\n",
      " [[1. 1. 1. 1. 1.]\n",
      "  [1. 1. 1. 1. 1.]\n",
      "  [1. 1. 1. 1. 1.]]] \n",
      "\n",
      "shape: (2, 3, 5)\n"
     ]
    }
   ],
   "source": [
    "#9. Transpose b so that it has the same structure of a (i.e. become a 2x3x5 array). Assign the transposed array to varialbe \"c\".\n",
    "\n",
    "c = b.transpose(1,2,0)\n",
    "print(c, '\\n\\nshape:',c.shape)"
   ]
  },
  {
   "cell_type": "code",
   "execution_count": 16,
   "id": "976adda0",
   "metadata": {
    "scrolled": false
   },
   "outputs": [
    {
     "data": {
      "text/plain": [
       "array([[[1.26764199, 1.28078151, 1.4024664 , 1.54776955, 1.18283405],\n",
       "        [1.90414877, 1.11008696, 1.79279073, 1.43935139, 1.55926648],\n",
       "        [1.72074028, 1.02320174, 1.27652876, 1.57606121, 1.45641999]],\n",
       "\n",
       "       [[1.00054599, 1.39952254, 1.3387684 , 1.17613817, 1.06486582],\n",
       "        [1.94951508, 1.55242166, 1.21661514, 1.5732664 , 1.57889873],\n",
       "        [1.27671581, 1.21879277, 1.34519676, 1.83924187, 1.55184416]]])"
      ]
     },
     "execution_count": 16,
     "metadata": {},
     "output_type": "execute_result"
    }
   ],
   "source": [
    "#10. Try to add a and c. Now it should work. Assign the sum to varialbe \"d\". But why does it work now? They have the same size.\n",
    "\n",
    "d = a + c\n",
    "d"
   ]
  },
  {
   "cell_type": "code",
   "execution_count": null,
   "id": "0748df5b",
   "metadata": {},
   "outputs": [],
   "source": [
    "#11. Print a and d. Notice the difference and relation of the two array in terms of the values? Explain. La matriz d es la matriz a + 1\n",
    "\n",
    "print('matriz a:','\\n',a)\n",
    "print('\\nmatriz d','\\n',d)"
   ]
  },
  {
   "cell_type": "code",
   "execution_count": null,
   "id": "28a8196b",
   "metadata": {
    "scrolled": false
   },
   "outputs": [],
   "source": [
    "#12. Multiply a and c. Assign the result to e.\n",
    "\n",
    "e = a*c\n",
    "e"
   ]
  },
  {
   "cell_type": "code",
   "execution_count": null,
   "id": "9b37b5f5",
   "metadata": {},
   "outputs": [],
   "source": [
    "#13. Does e equal to a? Why or why not?\n",
    "\n",
    "'''\n",
    "Sí, son iguales porque en esta operación c es el elemento neutro de a.\n",
    "'''"
   ]
  },
  {
   "cell_type": "code",
   "execution_count": 18,
   "id": "7135c26a",
   "metadata": {},
   "outputs": [
    {
     "name": "stdout",
     "output_type": "stream",
     "text": [
      "max: 1.9495150778197128\n",
      "min: 1.000545988929047\n",
      "mean: 1.4207479706925576\n"
     ]
    }
   ],
   "source": [
    "#14. Identify the max, min, and mean values in d. Assign those values to variables \"d_max\", \"d_min\", and \"d_mean\"\n",
    "\n",
    "d_max = d.max()\n",
    "d_min = d.min()\n",
    "d_mean = d.mean()\n",
    "\n",
    "print('max:',d_max)\n",
    "print('min:',d_min)\n",
    "print('mean:',d_mean)"
   ]
  },
  {
   "cell_type": "code",
   "execution_count": 39,
   "id": "b7908b9b",
   "metadata": {},
   "outputs": [
    {
     "data": {
      "text/plain": [
       "array([[[0., 0., 0., 0., 0.],\n",
       "        [0., 0., 0., 0., 0.],\n",
       "        [0., 0., 0., 0., 0.]],\n",
       "\n",
       "       [[0., 0., 0., 0., 0.],\n",
       "        [0., 0., 0., 0., 0.],\n",
       "        [0., 0., 0., 0., 0.]]])"
      ]
     },
     "execution_count": 39,
     "metadata": {},
     "output_type": "execute_result"
    }
   ],
   "source": [
    "#15. Now we want to label the values in d. First create an empty array \"f\" with the same shape (i.e. 2x3x5) as d using `np.empty`.\n",
    "\n",
    "f = np.zeros((2, 3, 5))\n",
    "f"
   ]
  },
  {
   "cell_type": "code",
   "execution_count": 30,
   "id": "9eaa6a1e",
   "metadata": {},
   "outputs": [
    {
     "data": {
      "text/plain": [
       "array([[[1.26764199, 1.28078151, 1.4024664 , 1.54776955, 1.18283405],\n",
       "        [1.90414877, 1.11008696, 1.79279073, 1.43935139, 1.55926648],\n",
       "        [1.72074028, 1.02320174, 1.27652876, 1.57606121, 1.45641999]],\n",
       "\n",
       "       [[1.00054599, 1.39952254, 1.3387684 , 1.17613817, 1.06486582],\n",
       "        [1.94951508, 1.55242166, 1.21661514, 1.5732664 , 1.57889873],\n",
       "        [1.27671581, 1.21879277, 1.34519676, 1.83924187, 1.55184416]]])"
      ]
     },
     "execution_count": 30,
     "metadata": {},
     "output_type": "execute_result"
    }
   ],
   "source": [
    "d"
   ]
  },
  {
   "cell_type": "code",
   "execution_count": 37,
   "id": "9da1495b",
   "metadata": {
    "scrolled": false
   },
   "outputs": [
    {
     "name": "stdout",
     "output_type": "stream",
     "text": [
      "[[[ 25.  25.  25.  75.  25.]\n",
      "  [ 75.  25.  75.  75.  75.]\n",
      "  [ 75.  25.  25.  75.  75.]]\n",
      "\n",
      " [[  0.  25.  25.  25.  25.]\n",
      "  [100.  75.  25.  75.  75.]\n",
      "  [ 25.  25.  25.  75.  75.]]]\n"
     ]
    }
   ],
   "source": [
    "#16. Populate the values in f. For each value in d, if it's larger than d_min but smaller than d_mean, assign 25 to the corresponding value in f.\n",
    "\"\"\"If a value in d is larger than d_mean but smaller than d_max, assign 75 to the corresponding value in f.\n",
    "If a value equals to d_mean, assign 50 to the corresponding value in f.\n",
    "Assign 0 to the corresponding value(s) in f for d_min in d.\n",
    "Assign 100 to the corresponding value(s) in f for d_max in d.\n",
    "In the end, f should have only the following values: 0, 25, 50, 75, and 100.\n",
    "Note: you don't have to use Numpy in this question.\n",
    "\"\"\"\n",
    "\n",
    "for x in range(d.shape[0]):\n",
    "    \n",
    "    for y in range(d.shape[1]):\n",
    "        \n",
    "        for z in range(d.shape[2]):\n",
    "            \n",
    "            if d_mean > d[x][y][z] > d_min:\n",
    "                f[x][y][z] = 25\n",
    "                \n",
    "            elif (d_max > d[x][y][z] > d_mean):\n",
    "                f[x][y][z] = 75\n",
    "                \n",
    "            elif d[x][y][z] == d_mean:\n",
    "                f[x][y][z] = 50\n",
    "            \n",
    "            elif d[x][y][z] == d_min:\n",
    "                f[x][y][z] = 0\n",
    "            \n",
    "            elif d[x][y][z] == d_max:\n",
    "                f[x][y][z] = 100\n",
    "\n",
    "#17. Print d and f. Do you have your expected f?\n",
    "print(f)"
   ]
  },
  {
   "cell_type": "code",
   "execution_count": 59,
   "id": "b1eb93f8",
   "metadata": {},
   "outputs": [
    {
     "data": {
      "text/plain": [
       "array([[[0., 0., 0., 0., 0.],\n",
       "        [0., 0., 0., 0., 0.],\n",
       "        [0., 0., 0., 0., 0.]],\n",
       "\n",
       "       [[0., 0., 0., 0., 0.],\n",
       "        [0., 0., 0., 0., 0.],\n",
       "        [0., 0., 0., 0., 0.]]])"
      ]
     },
     "execution_count": 59,
     "metadata": {},
     "output_type": "execute_result"
    }
   ],
   "source": [
    "f"
   ]
  },
  {
   "cell_type": "code",
   "execution_count": 75,
   "id": "fa57c200",
   "metadata": {},
   "outputs": [
    {
     "name": "stdout",
     "output_type": "stream",
     "text": [
      "[[['A', 'B', 'B', 'B', 'B', 'B'], ['A', 'B', 'B', 'B', 'B', 'B'], ['A', 'B', 'B', 'B', 'B', 'B']], [['C', 'D', 'D', 'D', 'D', 'D'], ['C', 'D', 'D', 'D', 'D', 'D'], ['C', 'D', 'D', 'D', 'D', 'D']]]\n"
     ]
    }
   ],
   "source": [
    "lst = [] \n",
    "\n",
    "for i in range(3):\n",
    "    lst.append(['A']) \n",
    "    for j in range(5): \n",
    "        lst[i].append('B') \n",
    "        \n",
    "lst2 = []\n",
    "for i in range(3):\n",
    "    lst2.append(['C']) \n",
    "    for j in range(5): \n",
    "        lst2[i].append('D')\n",
    "        \n",
    "list_g = [lst,lst2]\n",
    "\n",
    "        \n",
    "print(list_g) "
   ]
  },
  {
   "cell_type": "code",
   "execution_count": 76,
   "id": "8111b1f0",
   "metadata": {},
   "outputs": [
    {
     "data": {
      "text/plain": [
       "array([[['A', 'B', 'B', 'B', 'B', 'B'],\n",
       "        ['A', 'B', 'B', 'B', 'B', 'B'],\n",
       "        ['A', 'B', 'B', 'B', 'B', 'B']],\n",
       "\n",
       "       [['C', 'D', 'D', 'D', 'D', 'D'],\n",
       "        ['C', 'D', 'D', 'D', 'D', 'D'],\n",
       "        ['C', 'D', 'D', 'D', 'D', 'D']]], dtype='<U1')"
      ]
     },
     "execution_count": 76,
     "metadata": {},
     "output_type": "execute_result"
    }
   ],
   "source": [
    "np.array(list_g)"
   ]
  },
  {
   "cell_type": "code",
   "execution_count": 88,
   "id": "25c301f9",
   "metadata": {},
   "outputs": [
    {
     "data": {
      "text/plain": [
       "[[['B', 'B', 'B', 'D', 'B', 'B'],\n",
       "  ['D', 'B', 'D', 'D', 'D', 'B'],\n",
       "  ['D', 'B', 'B', 'D', 'D', 'B']],\n",
       " [['A', 'B', 'B', 'B', 'B', 'D'],\n",
       "  ['E', 'D', 'B', 'D', 'D', 'D'],\n",
       "  ['B', 'B', 'B', 'D', 'D', 'D']]]"
      ]
     },
     "execution_count": 88,
     "metadata": {},
     "output_type": "execute_result"
    }
   ],
   "source": [
    "# #18. Bonus question: instead of using numbers (i.e. 0, 25, 50, 75, and 100), how to use string values \n",
    "# (\"A\", \"B\", \"C\", \"D\", and \"E\") to label the array elements?\n",
    "\n",
    "for x in range(d.shape[0]):\n",
    "    \n",
    "    for y in range(d.shape[1]):\n",
    "        \n",
    "        for z in range(d.shape[2]):\n",
    "            \n",
    "            if d_mean > d[x][y][z] > d_min:\n",
    "                list_g[x][y][z] = 'B'\n",
    "                \n",
    "            elif (d_max > d[x][y][z] > d_mean):\n",
    "                list_g[x][y][z] = 'D'\n",
    "                \n",
    "            elif d[x][y][z] == d_mean:\n",
    "                list_g[x][y][z] = 'C'\n",
    "            \n",
    "            elif d[x][y][z] == d_min:\n",
    "                list_g[x][y][z] = 'A'\n",
    "            \n",
    "            elif d[x][y][z] == d_max:\n",
    "                list_g[x][y][z] = 'E'\n",
    "                \n",
    "list_g"
   ]
  }
 ],
 "metadata": {
  "kernelspec": {
   "display_name": "Python 3 (ipykernel)",
   "language": "python",
   "name": "python3"
  },
  "language_info": {
   "codemirror_mode": {
    "name": "ipython",
    "version": 3
   },
   "file_extension": ".py",
   "mimetype": "text/x-python",
   "name": "python",
   "nbconvert_exporter": "python",
   "pygments_lexer": "ipython3",
   "version": "3.9.12"
  }
 },
 "nbformat": 4,
 "nbformat_minor": 5
}
